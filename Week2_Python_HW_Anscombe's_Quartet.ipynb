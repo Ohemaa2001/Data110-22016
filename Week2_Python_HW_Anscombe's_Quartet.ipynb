{
  "nbformat": 4,
  "nbformat_minor": 0,
  "metadata": {
    "colab": {
      "private_outputs": true,
      "provenance": [],
      "include_colab_link": true
    },
    "kernelspec": {
      "name": "python3",
      "display_name": "Python 3"
    },
    "language_info": {
      "name": "python"
    }
  },
  "cells": [
    {
      "cell_type": "markdown",
      "metadata": {
        "id": "view-in-github",
        "colab_type": "text"
      },
      "source": [
        "<a href=\"https://colab.research.google.com/github/Ohemaa2001/Data110-22016/blob/main/Week2_Python_HW_Anscombe's_Quartet.ipynb\" target=\"_parent\"><img src=\"https://colab.research.google.com/assets/colab-badge.svg\" alt=\"Open In Colab\"/></a>"
      ]
    },
    {
      "cell_type": "markdown",
      "source": [
        "### Step 1: Import Necessary Packages\n",
        "\n",
        "Before we begin, we need to import the necessary Python libraries for plotting and performing the regression. We'll use:\n",
        "\n",
        "- `matplotlib.pyplot` for creating the graph\n",
        "- `numpy` for numerical operations\n"
      ],
      "metadata": {
        "id": "DwPQHz0ByEvD"
      }
    },
    {
      "cell_type": "code",
      "execution_count": null,
      "metadata": {
        "id": "pXmhBZ4MvRPv"
      },
      "outputs": [],
      "source": [
        "import matplotlib.pyplot as plt\n",
        "import numpy as np"
      ]
    },
    {
      "cell_type": "markdown",
      "source": [
        "### Step 2: Anscombe's Quartet Dataset\n",
        "\n",
        "This dataset is known as **Anscombe's Quartet**, created by statistician Francis Anscombe to illustrate the importance of visualizing data. Despite having nearly identical statistical properties (e.g., mean, variance, correlation, and linear regression), each dataset tells a very different story when graphed.\n",
        "\n",
        "- **x**: The independent variable, common across three datasets.\n",
        "- **y1, y2, y3**: Three different dependent variables associated with the same `x` values.\n",
        "- **x4, y4**: A special case where most of the `x` values are identical, with one outlier.\n",
        "\n",
        "#### Anscombe's Quartet:\n",
        "\n",
        "`"
      ],
      "metadata": {
        "id": "548spAROy0JN"
      }
    },
    {
      "cell_type": "code",
      "source": [
        "# Anscombe's Quartet:\n",
        "x = [10, 8, 13, 9, 11, 14, 6, 4, 12, 7, 5]\n",
        "y1 = [8.04, 6.95, 7.58, 8.81, 8.33, 9.96, 7.24, 4.26, 10.84, 4.82, 5.68]\n",
        "y2 = [9.14, 8.14, 8.74, 8.77, 9.26, 8.10, 6.13, 3.10, 9.13, 7.26, 4.74]\n",
        "y3 = [7.46, 6.77, 12.74, 7.11, 7.81, 8.84, 6.08, 5.39, 8.15, 6.42, 5.73]\n",
        "x4 = [8, 8, 8, 8, 8, 8, 8, 19, 8, 8, 8]\n",
        "y4 = [6.58, 5.76, 7.71, 8.84, 8.47, 7.04, 5.25, 12.50, 5.56, 7.91, 6.89]\n"
      ],
      "metadata": {
        "id": "aPVnuHIevUqf"
      },
      "execution_count": null,
      "outputs": []
    },
    {
      "cell_type": "code",
      "source": [
        "plt.scatter(x, y1)\n"
      ],
      "metadata": {
        "id": "w0l5R9KqvXvd"
      },
      "execution_count": null,
      "outputs": []
    },
    {
      "cell_type": "code",
      "source": [
        "# Calculate the slope (m) and intercept (b) of the line using np.polyfit\n",
        "m, b = np.polyfit(x, y1, 1)\n",
        "\n",
        "# Create the regression line\n",
        "regression_line = m * np.array(x) + b\n",
        "\n",
        "# Plot the data points and regression line\n",
        "plt.scatter(x, y1)\n",
        "plt.plot(x, regression_line,color='red')\n",
        "plt.xlabel('x')\n",
        "plt.ylabel('y1')\n"
      ],
      "metadata": {
        "id": "pDygKka5v80w"
      },
      "execution_count": null,
      "outputs": []
    },
    {
      "cell_type": "code",
      "source": [],
      "metadata": {
        "id": "YJuKSD20DH9d"
      },
      "execution_count": null,
      "outputs": []
    },
    {
      "cell_type": "code",
      "source": [],
      "metadata": {
        "id": "zEmqDshLDJSN"
      },
      "execution_count": null,
      "outputs": []
    },
    {
      "cell_type": "markdown",
      "source": [
        "### Your Task:\n",
        "\n",
        "Perform the same linear regression process for the following datasets: y2, y3, and y4.\n",
        "Modify the code to calculate and plot the regression lines for each of these datasets.\n",
        "Use distinct colors for each plot and appropriately label the axes (y2, y3, etc.).\n",
        "Discuss any differences you observe when comparing the results across all datasets.\n"
      ],
      "metadata": {
        "id": "zq1vxanv0WCk"
      }
    },
    {
      "cell_type": "code",
      "source": [
        "\n",
        "# Your Code need to be here for x and y2\n",
        "[9.14, 8.14, 8.74, 8.77, 9.26, 8.10, 6.13, 3.10, 9.13, 7.26, 4.74]"
      ],
      "metadata": {
        "id": "xlEuffEB0akv"
      },
      "execution_count": null,
      "outputs": []
    },
    {
      "cell_type": "code",
      "source": [
        "# Your Code need to be here for x and y3\n",
        "[7.46, 6.77, 12.74, 7.11, 7.81, 8.84, 6.08, 5.39, 8.15, 6.42, 5.73]"
      ],
      "metadata": {
        "id": "japDtZHZ0spc"
      },
      "execution_count": null,
      "outputs": []
    },
    {
      "cell_type": "code",
      "source": [
        "# Your code need to be here for x and y4\n",
        "[6.58, 5.76, 7.71, 8.84, 8.47, 7.04, 5.25, 12.50, 5.56, 7.91, 6.89]\n"
      ],
      "metadata": {
        "id": "xB_v3dqe0vk6"
      },
      "execution_count": null,
      "outputs": []
    },
    {
      "cell_type": "code",
      "source": [
        "# Your code need to be here for x4 and y4\n",
        "x4 = [8, 8, 8, 8, 8, 8, 8, 19, 8, 8, 8]\n",
        "y4 = [6.58, 5.76, 7.71, 8.84, 8.47, 7.04, 5.25, 12.50, 5.56, 7.91, 6.89]"
      ],
      "metadata": {
        "id": "9JZOv2du1Ajk"
      },
      "execution_count": null,
      "outputs": []
    },
    {
      "cell_type": "markdown",
      "source": [
        "### Reflection Question:\n",
        "\n",
        "After visualizing the linear regression for all four datasets in Anscombe's Quartet, reflect on the following:\n",
        "\n",
        "#### What is your reflection?\n",
        "- How do the datasets visually differ despite having similar summary statistics?\n",
        "- How did the outlier in the `x4, y4` dataset affect the regression line compared to the other datasets?\n",
        "- Why is it important to visualize data in addition to calculating summary statistics?\n",
        "\n",
        "Please provide your insights and discuss the importance of data visualization in understanding relationships between variables.\n"
      ],
      "metadata": {
        "id": "s6D6uk8v1KRZ"
      }
    },
    {
      "cell_type": "markdown",
      "source": [
        "Reflection Question:\n",
        "After visualizing the linear regression for all four datasets in Anscombe's Quartet, reflect on the following:\n",
        "\n",
        "What is your reflection?\n",
        "\n",
        "How do the datasets visually differ despite having similar summary statistics?\n",
        "\n",
        "- The first set differs in that the plotted data begins to decrease despite having a linear growth\n",
        "- The second set seems to be increasing with a outlier\n",
        "- the third set can be decribed to be truly scattered, as the points do not align with the linear line\n",
        "- the fourth graph shows the plots with the same x value and an outlier\n",
        "\n",
        "How did the outlier in the x4, y4 dataset affect the regression line compared to the other datasets?\n",
        "\n",
        "- the plots did not tend to follow the regression line as did the other graphs\n",
        "\n",
        "Why is it important to visualize data in addition to calculating summary statistics?\n",
        "\n",
        "- In sales, it is important to keep track of cost and by using data plots, individuals can identify how well certain sales are or what changes are necessary\n",
        "\n",
        "\n",
        "Please provide your insights and discuss the importance of data visualization in understanding relationships between variables."
      ],
      "metadata": {
        "id": "wOFKGrVmFjDw"
      }
    },
    {
      "cell_type": "code",
      "source": [
        "import matplotlib.pyplot as plt\n",
        "import numpy as np"
      ],
      "metadata": {
        "id": "fuwfpw6iCgCw"
      },
      "execution_count": null,
      "outputs": []
    },
    {
      "cell_type": "code",
      "source": [
        "x = [10, 8, 13, 9, 11, 14, 6, 4, 12, 7, 5]\n",
        "y2 = [9.14, 8.14, 8.74, 8.77, 9.26, 8.10, 6.13, 3.10, 9.13, 7.26, 4.74]\n"
      ],
      "metadata": {
        "id": "1eaC88HNCkbm"
      },
      "execution_count": null,
      "outputs": []
    },
    {
      "cell_type": "code",
      "source": [
        "plt.scatter(x, y2)\n",
        "# Calculate the slope (m) and intercept (b) of the line using np.polyfit\n",
        "m, b = np.polyfit(x, y2, 1)\n",
        "\n",
        "# Create the regression line\n",
        "regression_line = m * np.array(x) + b\n",
        "\n",
        "# Plot the data points and regression line\n",
        "plt.scatter(x, y2)\n",
        "plt.plot(x, regression_line,color='Blue')\n",
        "plt.xlabel('x')\n",
        "plt.ylabel('y2')"
      ],
      "metadata": {
        "id": "daihaPQsC1O9"
      },
      "execution_count": null,
      "outputs": []
    },
    {
      "cell_type": "code",
      "source": [
        "import matplotlib.pyplot as plt\n",
        "import numpy as np"
      ],
      "metadata": {
        "id": "72oEk4fwDkAQ"
      },
      "execution_count": null,
      "outputs": []
    },
    {
      "cell_type": "code",
      "source": [
        "x = [10, 8, 13, 9, 11, 14, 6, 4, 12, 7, 5]\n",
        "y3 = [7.46, 6.77, 12.74, 7.11, 7.81, 8.84, 6.08, 5.39, 8.15, 6.42, 5.73]"
      ],
      "metadata": {
        "id": "jZlavwEODsmO"
      },
      "execution_count": null,
      "outputs": []
    },
    {
      "cell_type": "code",
      "source": [
        "plt.scatter(x, y3)\n",
        "# Calculate the slope (m) and intercept (b) of the line using np.polyfit\n",
        "m, b = np.polyfit(x, y3, 1)\n",
        "\n",
        "# Create the regression line\n",
        "regression_line = m * np.array(x) + b\n",
        "\n",
        "# Plot the data points and regression line\n",
        "plt.scatter(x, y3)\n",
        "plt.plot(x, regression_line,color='Yellow')\n",
        "plt.xlabel('x')\n",
        "plt.ylabel('y3')"
      ],
      "metadata": {
        "id": "Kvv8X8ytEB1Q"
      },
      "execution_count": null,
      "outputs": []
    },
    {
      "cell_type": "code",
      "source": [
        "x = [10, 8, 13, 9, 11, 14, 6, 4, 12, 7, 5]\n",
        "y4 = [6.58, 5.76, 7.71, 8.84, 8.47, 7.04, 5.25, 12.50, 5.56, 7.91, 6.89]"
      ],
      "metadata": {
        "id": "lB6ooaWEEVrK"
      },
      "execution_count": null,
      "outputs": []
    },
    {
      "cell_type": "code",
      "source": [
        "import matplotlib.pyplot as plt\n",
        "import numpy as np"
      ],
      "metadata": {
        "id": "SXqfWbXFEqEE"
      },
      "execution_count": null,
      "outputs": []
    },
    {
      "cell_type": "code",
      "source": [
        "plt.scatter(x, y4)\n",
        "# Calculate the slope (m) and intercept (b) of the line using np.polyfit\n",
        "m, b = np.polyfit(x, y4, 1)\n",
        "\n",
        "# Create the regression line\n",
        "regression_line = m * np.array(x) + b\n",
        "\n",
        "# Plot the data points and regression line\n",
        "plt.scatter(x, y4)\n",
        "plt.plot(x, regression_line,color='Pink')\n",
        "plt.xlabel('x')\n",
        "plt.ylabel('y4')"
      ],
      "metadata": {
        "id": "E9m2aRkqEty0"
      },
      "execution_count": null,
      "outputs": []
    },
    {
      "cell_type": "code",
      "source": [
        "import matplotlib.pyplot as plt\n",
        "import numpy as np"
      ],
      "metadata": {
        "id": "BFBlxDeAE5e8"
      },
      "execution_count": null,
      "outputs": []
    },
    {
      "cell_type": "code",
      "source": [
        "x4 = [8, 8, 8, 8, 8, 8, 8, 19, 8, 8, 8]\n",
        "y4 = [6.58, 5.76, 7.71, 8.84, 8.47, 7.04, 5.25, 12.50, 5.56, 7.91, 6.89]"
      ],
      "metadata": {
        "id": "1pSuxZ_fE9M0"
      },
      "execution_count": null,
      "outputs": []
    },
    {
      "cell_type": "code",
      "source": [
        "plt.scatter(x4, y4)\n",
        "# Calculate the slope (m) and intercept (b) of the line using np.polyfit\n",
        "m, b = np.polyfit(x4, y4, 1)\n",
        "\n",
        "# Create the regression line\n",
        "regression_line = m * np.array(x) + b\n",
        "\n",
        "# Plot the data points and regression line\n",
        "plt.scatter(x4, y4)\n",
        "plt.plot(x, regression_line,color='Brown')\n",
        "plt.xlabel('x4')\n",
        "plt.ylabel('y4')"
      ],
      "metadata": {
        "id": "suxEmWOEFEel"
      },
      "execution_count": null,
      "outputs": []
    }
  ]
}