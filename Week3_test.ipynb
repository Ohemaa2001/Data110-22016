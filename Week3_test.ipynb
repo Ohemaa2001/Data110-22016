{
  "nbformat": 4,
  "nbformat_minor": 0,
  "metadata": {
    "colab": {
      "private_outputs": true,
      "provenance": [],
      "authorship_tag": "ABX9TyM17zgBQn8QYlgviQkoBUEt",
      "include_colab_link": true
    },
    "kernelspec": {
      "name": "python3",
      "display_name": "Python 3"
    },
    "language_info": {
      "name": "python"
    }
  },
  "cells": [
    {
      "cell_type": "markdown",
      "metadata": {
        "id": "view-in-github",
        "colab_type": "text"
      },
      "source": [
        "<a href=\"https://colab.research.google.com/github/Reben80/Data110-22016/blob/main/Week3_test.ipynb\" target=\"_parent\"><img src=\"https://colab.research.google.com/assets/colab-badge.svg\" alt=\"Open In Colab\"/></a>"
      ]
    },
    {
      "cell_type": "code",
      "execution_count": null,
      "metadata": {
        "id": "y2FqUHUUO7fz"
      },
      "outputs": [],
      "source": [
        "import matplotlib.pyplot as plt\n",
        "import numpy as np\n",
        "import pandas as pd"
      ]
    },
    {
      "cell_type": "code",
      "source": [
        "# First way is not very good\n",
        "pd=pd.read_csv('/content/happiness_2017.csv')"
      ],
      "metadata": {
        "id": "J756T3gOPJ_D"
      },
      "execution_count": null,
      "outputs": []
    },
    {
      "cell_type": "code",
      "source": [
        "# Second way ( Ahyoka way)\n",
        "ps=pd.read_csv('https://raw.githubusercontent.com/Reben80/Data110-22016/main/dataset/happiness_2017.csv')"
      ],
      "metadata": {
        "id": "zHO0_wQEQdfi"
      },
      "execution_count": null,
      "outputs": []
    },
    {
      "cell_type": "code",
      "source": [
        "pd.describe()"
      ],
      "metadata": {
        "id": "hzyzIj1oQFTX"
      },
      "execution_count": null,
      "outputs": []
    }
  ]
}